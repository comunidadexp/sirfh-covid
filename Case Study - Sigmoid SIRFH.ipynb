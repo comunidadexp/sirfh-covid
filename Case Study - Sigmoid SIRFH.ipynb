{
 "cells": [
  {
   "cell_type": "code",
   "execution_count": 1,
   "metadata": {},
   "outputs": [],
   "source": [
    "%matplotlib inline\n",
    "%load_ext autotime\n",
    "%load_ext snakeviz\n",
    "import numpy as np\n",
    "import pandas as pd\n",
    "from scipy.integrate import solve_ivp\n",
    "from scipy.optimize import minimize\n",
    "import matplotlib.pyplot as plt\n",
    "from datetime import timedelta, datetime\n",
    "import datetime as dt\n",
    "from SIR_models import *\n",
    "import datetime as dt"
   ]
  },
  {
   "cell_type": "markdown",
   "metadata": {},
   "source": [
    "# Case Study for Spain, South Korea, US, Italy and Brazil"
   ]
  },
  {
   "cell_type": "markdown",
   "metadata": {},
   "source": [
    "## Scenario creation\n",
    "\n",
    "Let's take a look at total confirmed cases in late cycle examples"
   ]
  },
  {
   "cell_type": "code",
   "execution_count": 3,
   "metadata": {},
   "outputs": [
    {
     "name": "stdout",
     "output_type": "stream",
     "text": [
      "time: 367 ms\n"
     ]
    }
   ],
   "source": [
    "dic = {}\n",
    "ct = 'Diamond Princess'\n",
    "d = SIR(country=ct)\n",
    "dic[ct] = d.confirmed.max() / 3700\n",
    "\n",
    "ct = 'Korea, South'\n",
    "d = SIR(country=ct)\n",
    "dic[ct] = d.confirmed.max() / 51.6e6\n",
    "\n",
    "ct = 'Italy'\n",
    "d = SIR(country=ct)\n",
    "dic[ct] = d.confirmed.max() / 60.3e6\n",
    "\n",
    "ct = 'Spain'\n",
    "d = SIR(country=ct)\n",
    "dic[ct] = d.confirmed.max() / 47e6\n",
    "\n",
    "ct = 'New Zealand'\n",
    "d = SIR(country=ct)\n",
    "dic[ct] = d.confirmed.max() / 4.9e6\n",
    "\n",
    "ct = 'Singapore'\n",
    "d = SIR(country=ct)\n",
    "dic[ct] = d.confirmed.max() / 5.6e6\n",
    "\n",
    "ct = 'Germany'\n",
    "d = SIR(country=ct)\n",
    "dic[ct] = d.confirmed.max() / 83e6"
   ]
  },
  {
   "cell_type": "code",
   "execution_count": 4,
   "metadata": {},
   "outputs": [
    {
     "data": {
      "text/plain": [
       "<matplotlib.axes._subplots.AxesSubplot at 0x2d220990408>"
      ]
     },
     "execution_count": 4,
     "metadata": {},
     "output_type": "execute_result"
    },
    {
     "data": {
      "image/png": "[encoded data removed]",
      "text/plain": [
       "<Figure size 432x288 with 1 Axes>"
      ]
     },
     "metadata": {
      "needs_background": "light"
     },
     "output_type": "display_data"
    },
    {
     "name": "stdout",
     "output_type": "stream",
     "text": [
      "time: 149 ms\n"
     ]
    }
   ],
   "source": [
    "pd.Series(dic).plot.bar()"
   ]
  },
  {
   "cell_type": "code",
   "execution_count": 17,
   "metadata": {},
   "outputs": [
    {
     "data": {
      "text/plain": [
       "count    7.000000\n",
       "mean     0.029157\n",
       "std      0.072013\n",
       "min      0.000207\n",
       "25%      0.001054\n",
       "50%      0.001815\n",
       "75%      0.003770\n",
       "max      0.192432\n",
       "dtype: float64"
      ]
     },
     "execution_count": 17,
     "metadata": {},
     "output_type": "execute_result"
    },
    {
     "name": "stdout",
     "output_type": "stream",
     "text": [
      "time: 4.99 ms\n"
     ]
    }
   ],
   "source": [
    "pd.Series(dic).describe()"
   ]
  },
  {
   "cell_type": "markdown",
   "metadata": {},
   "source": [
    "# Plot Tests"
   ]
  },
  {
   "cell_type": "code",
   "execution_count": 2,
   "metadata": {},
   "outputs": [
    {
     "name": "stdout",
     "output_type": "stream",
     "text": [
      "Beta1:0.31118164052008357 Beta2:0.2 Gamma:0.07147303818175076 S_0:2999841.4972222224\n",
      "Beta1:0.31118164052008357 \n",
      "Beta2:0.2 \n",
      "Gamma:0.07147303818175076 | 13.991289938690901 days \n",
      "Gamma I:0.07142857142857142 | 14.0 days\n",
      "Gamma H:0.023809523809524363 | 41.99999999999903 days\n",
      "Omega:0.1251245002985692 | 7.99203990916106 days\n",
      "S0:2999841.4972222224 \n",
      "Delta:0.47878787878787876 \n",
      "Lambda:0.5002740242992446 \n",
      "R0_initial:4.353832556113974\n",
      "R0_quarantine:2.7982579877381806\n"
     ]
    },
    {
     "data": {
      "image/png": "[encoded data removed]",
      "text/plain": [
       "<Figure size 432x288 with 1 Axes>"
      ]
     },
     "metadata": {
      "needs_background": "light"
     },
     "output_type": "display_data"
    },
    {
     "name": "stdout",
     "output_type": "stream",
     "text": [
      "time: 1.36 s\n"
     ]
    }
   ],
   "source": [
    "# Versão mais parecida com a utilizada no PPT\n",
    "hospRate = 0.05\n",
    "#deltaUpperBound = 0.035 / hospRate\n",
    "deltaUpperBound = 79/165\n",
    "gi = 0.07\n",
    "gh = 0.07\n",
    "omega = 0.07\n",
    "\n",
    "\n",
    "# Mudar omega bouds / \n",
    "N=200e6\n",
    "\n",
    "t1 = SIHRF_Sigmoid(country = 'Brazil',\n",
    "         N=N,\n",
    "         # N=1e6,\n",
    "         alpha=.7,\n",
    "         nth=100,\n",
    "         daysToHosp=4,  # big for detction\n",
    "         daysToLeave=12,\n",
    "         daysPredict=150,\n",
    "         infectedAssumption=1,\n",
    "         # forcedBeta = 3,\n",
    "         quarantineDate = dt.datetime(2020,3,24), #italy lockdown was on the 9th\n",
    "         # estimateBeta2 = True\n",
    "         # opt='SLSQP',\n",
    "         R0bounds=(0,20),\n",
    "         hospRate=hospRate,\n",
    "           \n",
    "         # Loose restrictions\n",
    "         #S0pbounds=(10e6 / 200e6, 10e6 / 200e6),\n",
    "         #delta_bounds=(0, deltaUpperBound),\n",
    "         #betaBounds=(0.20, 1.5),\n",
    "         #gammaBounds=(0.01, .2),\n",
    "         #gamma_i_bounds=(1/(20), 1/(1)),\n",
    "         #gamma_h_bounds=(1/(8*7), 1/(2*7)),\n",
    "         #omega_bounds=(1/(4*7), 1/(3)),\n",
    "        \n",
    "         # Tight restrictions\n",
    "         #S0pbounds=(10e6 / N, 10e6 / N),\n",
    "         S0pbounds=(.015, .015),\n",
    "         delta_bounds=(0, deltaUpperBound),\n",
    "         betaBounds=(0.20, 1.5),\n",
    "         gammaBounds=(0.05, .15),\n",
    "         gamma_i_bounds=(1/(14), 1/(5)),\n",
    "         gamma_h_bounds=(1/(6*7), 1/(3*7)),\n",
    "         omega_bounds=(1/(12), 1/(3)),\n",
    "                   \n",
    "         #restricted - EM Algo\n",
    "         #S0pbounds=(1e6 / 200e6, 50e6 / 200e6),\n",
    "         #delta_bounds=(deltaUpperBound, deltaUpperBound),\n",
    "         #betaBounds=(0.2, 0.4),\n",
    "         #gammaBounds=(0, 1),\n",
    "         #gamma_i_bounds=(1/(15), 1/(15)),\n",
    "         #gamma_h_bounds=(1/(4*7), 1/(4*7)),\n",
    "         #omega_bounds=(1/(10), 1/(10)),\n",
    "           \n",
    "         #restricted \n",
    "         #S0pbounds=(.5e6 / 200e6, 50e6 / 200e6),\n",
    "         #delta_bounds=(deltaUpperBound, deltaUpperBound),\n",
    "         #betaBounds=(0.4, 0.2),\n",
    "         #gammaBounds=(0, 1),\n",
    "         #gamma_i_bounds=(gi, gi),\n",
    "         #gamma_h_bounds=(gh, gh),\n",
    "         #omega_bounds=(omega, omega),\n",
    "           \n",
    "         #omega_bounds=(1/12, 1/12),\n",
    "         alphas=(0.025,0.005,.97),\n",
    "           adjust_recovered=True,\n",
    "         )\n",
    "\n",
    "t1.train()\n",
    "#options={'eps': 5e-3, }\n",
    "#options={'eps': 1e-3, 'ftol': 1e-7}\n",
    "\n",
    "#t1.outOfSample_forecast(dt.datetime(2020, 4, 1))\n",
    "t1.F_fit_plot()"
   ]
  },
  {
   "cell_type": "code",
   "execution_count": 3,
   "metadata": {},
   "outputs": [
    {
     "name": "stdout",
     "output_type": "stream",
     "text": [
      "MSE: 146.0610478556417\n"
     ]
    },
    {
     "data": {
      "image/png": "[encoded data removed]",
      "text/plain": [
       "<Figure size 432x288 with 1 Axes>"
      ]
     },
     "metadata": {
      "needs_background": "light"
     },
     "output_type": "display_data"
    },
    {
     "name": "stdout",
     "output_type": "stream",
     "text": [
      "time: 1.24 s\n"
     ]
    }
   ],
   "source": [
    "t1.outOfSample_forecast(days=7)"
   ]
  },
  {
   "cell_type": "code",
   "execution_count": 4,
   "metadata": {},
   "outputs": [
    {
     "data": {
      "image/png": "[encoded data removed]",
      "text/plain": [
       "<Figure size 432x288 with 1 Axes>"
      ]
     },
     "metadata": {
      "needs_background": "light"
     },
     "output_type": "display_data"
    },
    {
     "name": "stdout",
     "output_type": "stream",
     "text": [
      "time: 242 ms\n"
     ]
    }
   ],
   "source": [
    "t1.outOfSample_plot(days=7, diff=True)"
   ]
  },
  {
   "cell_type": "code",
   "execution_count": 18,
   "metadata": {},
   "outputs": [
    {
     "data": {
      "text/plain": [
       "2020-04-03    121.866247\n",
       "2020-04-04    161.040704\n",
       "2020-04-05    149.236032\n",
       "2020-04-06    167.618773\n",
       "2020-04-07    222.255189\n",
       "2020-04-08    279.097144\n",
       "2020-04-09    323.999472\n",
       "2020-04-10    333.663894\n",
       "2020-04-11    290.618121\n",
       "2020-04-12    265.215851\n",
       "2020-04-13    229.636771\n",
       "2020-04-14    274.886559\n",
       "2020-04-15    299.796881\n",
       "2020-04-16    286.091384\n",
       "2020-04-17    276.390611\n",
       "2020-04-18    234.536383\n",
       "2020-04-19     56.198531\n",
       "2020-04-20   -140.045322\n",
       "2020-04-21   -345.709759\n",
       "2020-04-22   -582.401575\n",
       "dtype: float64"
      ]
     },
     "execution_count": 18,
     "metadata": {},
     "output_type": "execute_result"
    },
    {
     "name": "stdout",
     "output_type": "stream",
     "text": [
      "time: 3.96 ms\n"
     ]
    }
   ],
   "source": [
    "((t1.F_actual.loc[:t1.end_data] - t1.forecast['F'].loc[:t1.end_data])).tail(20)"
   ]
  },
  {
   "cell_type": "code",
   "execution_count": 17,
   "metadata": {},
   "outputs": [
    {
     "data": {
      "text/plain": [
       "2020-03-13       0\n",
       "2020-03-14       0\n",
       "2020-03-15       0\n",
       "2020-03-16       0\n",
       "2020-03-17       1\n",
       "2020-03-18       3\n",
       "2020-03-19       6\n",
       "2020-03-20      11\n",
       "2020-03-21      15\n",
       "2020-03-22      25\n",
       "2020-03-23      34\n",
       "2020-03-24      46\n",
       "2020-03-25      59\n",
       "2020-03-26      77\n",
       "2020-03-27      92\n",
       "2020-03-28     111\n",
       "2020-03-29     136\n",
       "2020-03-30     159\n",
       "2020-03-31     201\n",
       "2020-04-01     240\n",
       "2020-04-02     324\n",
       "2020-04-03     359\n",
       "2020-04-04     445\n",
       "2020-04-05     486\n",
       "2020-04-06     564\n",
       "2020-04-07     686\n",
       "2020-04-08     819\n",
       "2020-04-09     950\n",
       "2020-04-10    1057\n",
       "2020-04-11    1124\n",
       "2020-04-12    1223\n",
       "2020-04-13    1328\n",
       "2020-04-14    1532\n",
       "2020-04-15    1736\n",
       "2020-04-16    1924\n",
       "2020-04-17    2141\n",
       "2020-04-18    2354\n",
       "2020-04-19    2462\n",
       "2020-04-20    2587\n",
       "2020-04-21    2741\n",
       "2020-04-22    2906\n",
       "Name: Brazil, dtype: int64"
      ]
     },
     "execution_count": 17,
     "metadata": {},
     "output_type": "execute_result"
    },
    {
     "name": "stdout",
     "output_type": "stream",
     "text": [
      "time: 3.97 ms\n"
     ]
    }
   ],
   "source": [
    "t1.F_actual.loc[:t1.end_data]"
   ]
  },
  {
   "cell_type": "code",
   "execution_count": 12,
   "metadata": {},
   "outputs": [
    {
     "data": {
      "text/plain": [
       "Timestamp('2020-04-22 00:00:00')"
      ]
     },
     "execution_count": 12,
     "metadata": {},
     "output_type": "execute_result"
    },
    {
     "name": "stdout",
     "output_type": "stream",
     "text": [
      "time: 4.93 ms\n"
     ]
    }
   ],
   "source": [
    "t1.end_data"
   ]
  },
  {
   "cell_type": "code",
   "execution_count": null,
   "metadata": {},
   "outputs": [],
   "source": [
    "Thailand e japan e china\n",
    "\n",
    "# PAREI NO CALCULO DO MSE, CALCULAR MSE OUT OF SAMPLE E IN SAMPLE\n",
    "# achar pela planilha os que bateu 100 casos antes\n",
    "\n",
    "# New algo - S0 a minimizar o erro out of sample dos últimos 7 dias - checar estabilidade\n"
   ]
  },
  {
   "cell_type": "code",
   "execution_count": 4,
   "metadata": {},
   "outputs": [
    {
     "data": {
      "text/plain": [
       "209579.06434289273"
      ]
     },
     "execution_count": 4,
     "metadata": {},
     "output_type": "execute_result"
    },
    {
     "name": "stdout",
     "output_type": "stream",
     "text": [
      "time: 1.97 ms\n"
     ]
    }
   ],
   "source": [
    "3943868.945275071 - 3734289.8809321783"
   ]
  },
  {
   "cell_type": "code",
   "execution_count": 15,
   "metadata": {},
   "outputs": [
    {
     "data": {
      "text/plain": [
       "41"
      ]
     },
     "execution_count": 15,
     "metadata": {},
     "output_type": "execute_result"
    },
    {
     "name": "stdout",
     "output_type": "stream",
     "text": [
      "time: 1.99 ms\n"
     ]
    }
   ],
   "source": [
    "t1.df['F_Actual'].loc[:t1.end_data].shape[0]"
   ]
  },
  {
   "cell_type": "code",
   "execution_count": 18,
   "metadata": {},
   "outputs": [
    {
     "data": {
      "text/plain": [
       "2020-03-13       0.0\n",
       "2020-03-14       0.0\n",
       "2020-03-15       0.0\n",
       "2020-03-16       0.0\n",
       "2020-03-17       1.0\n",
       "2020-03-18       3.0\n",
       "2020-03-19       6.0\n",
       "2020-03-20      11.0\n",
       "2020-03-21      15.0\n",
       "2020-03-22      25.0\n",
       "2020-03-23      34.0\n",
       "2020-03-24      46.0\n",
       "2020-03-25      59.0\n",
       "2020-03-26      77.0\n",
       "2020-03-27      92.0\n",
       "2020-03-28     111.0\n",
       "2020-03-29     136.0\n",
       "2020-03-30     159.0\n",
       "2020-03-31     201.0\n",
       "2020-04-01     240.0\n",
       "2020-04-02     324.0\n",
       "2020-04-03     359.0\n",
       "2020-04-04     445.0\n",
       "2020-04-05     486.0\n",
       "2020-04-06     564.0\n",
       "2020-04-07     686.0\n",
       "2020-04-08     819.0\n",
       "2020-04-09     950.0\n",
       "2020-04-10    1057.0\n",
       "2020-04-11    1124.0\n",
       "2020-04-12    1223.0\n",
       "2020-04-13    1328.0\n",
       "2020-04-14    1532.0\n",
       "2020-04-15    1736.0\n",
       "2020-04-16    1924.0\n",
       "2020-04-17    2141.0\n",
       "2020-04-18    2354.0\n",
       "2020-04-19    2462.0\n",
       "2020-04-20    2587.0\n",
       "2020-04-21    2741.0\n",
       "2020-04-22    2906.0\n",
       "2020-04-23       NaN\n",
       "2020-04-24       NaN\n",
       "2020-04-25       NaN\n",
       "2020-04-26       NaN\n",
       "Name: F_Actual, dtype: float64"
      ]
     },
     "execution_count": 18,
     "metadata": {},
     "output_type": "execute_result"
    },
    {
     "name": "stdout",
     "output_type": "stream",
     "text": [
      "time: 3.96 ms\n"
     ]
    }
   ],
   "source": [
    "t1.df['F_Actual'].head(45)"
   ]
  },
  {
   "cell_type": "code",
   "execution_count": null,
   "metadata": {},
   "outputs": [],
   "source": []
  }
 ],
 "metadata": {
  "kernelspec": {
   "display_name": "Python 3",
   "language": "python",
   "name": "python3"
  },
  "language_info": {
   "codemirror_mode": {
    "name": "ipython",
    "version": 3
   },
   "file_extension": ".py",
   "mimetype": "text/x-python",
   "name": "python",
   "nbconvert_exporter": "python",
   "pygments_lexer": "ipython3",
   "version": "3.7.6"
  }
 },
 "nbformat": 4,
 "nbformat_minor": 4
}
