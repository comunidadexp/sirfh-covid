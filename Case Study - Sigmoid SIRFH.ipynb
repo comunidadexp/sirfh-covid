{
 "cells": [
  {
   "cell_type": "code",
   "execution_count": 3,
   "metadata": {},
   "outputs": [],
   "source": [
    "%matplotlib inline\n",
    "%load_ext autotime\n",
    "%load_ext snakeviz\n",
    "import numpy as np\n",
    "import pandas as pd\n",
    "from scipy.integrate import solve_ivp\n",
    "from scipy.optimize import minimize\n",
    "import matplotlib.pyplot as plt\n",
    "from datetime import timedelta, datetime\n",
    "import datetime as dt\n",
    "from SIR_models import *\n",
    "import datetime as dt"
   ]
  },
  {
   "cell_type": "markdown",
   "metadata": {},
   "source": [
    "# Case Study for Spain, South Korea, US, Italy and Brazil"
   ]
  },
  {
   "cell_type": "markdown",
   "metadata": {},
   "source": [
    "## Scenario creation\n",
    "\n",
    "Let's take a look at total confirmed cases in late cycle examples"
   ]
  },
  {
   "cell_type": "code",
   "execution_count": 16,
   "metadata": {},
   "outputs": [
    {
     "name": "stdout",
     "output_type": "stream",
     "text": [
      "time: 337 ms\n"
     ]
    }
   ],
   "source": [
    "dic = {}\n",
    "ct = 'Diamond Princess'\n",
    "d = SIR(country=ct)\n",
    "dic[ct] = d.confirmed.max() / 3700\n",
    "\n",
    "ct = 'Korea, South'\n",
    "d = SIR(country=ct)\n",
    "dic[ct] = d.confirmed.max() / 51.6e6\n",
    "\n",
    "ct = 'Italy'\n",
    "d = SIR(country=ct)\n",
    "dic[ct] = d.confirmed.max() / 60.3e6\n",
    "\n",
    "ct = 'Spain'\n",
    "d = SIR(country=ct)\n",
    "dic[ct] = d.confirmed.max() / 47e6\n",
    "\n",
    "ct = 'New Zealand'\n",
    "d = SIR(country=ct)\n",
    "dic[ct] = d.confirmed.max() / 4.9e6\n",
    "\n",
    "ct = 'Singapore'\n",
    "d = SIR(country=ct)\n",
    "dic[ct] = d.confirmed.max() / 5.6e6\n",
    "\n",
    "ct = 'Germany'\n",
    "d = SIR(country=ct)\n",
    "dic[ct] = d.confirmed.max() / 83e6"
   ]
  },
  {
   "cell_type": "code",
   "execution_count": 19,
   "metadata": {},
   "outputs": [
    {
     "data": {
      "text/plain": [
       "<matplotlib.axes._subplots.AxesSubplot at 0x1f8ec312f08>"
      ]
     },
     "execution_count": 19,
     "metadata": {},
     "output_type": "execute_result"
    },
    {
     "data": {
      "image/png": "[encoded data removed]",
      "text/plain": [
       "<Figure size 432x288 with 1 Axes>"
      ]
     },
     "metadata": {
      "needs_background": "light"
     },
     "output_type": "display_data"
    },
    {
     "name": "stdout",
     "output_type": "stream",
     "text": [
      "time: 206 ms\n"
     ]
    }
   ],
   "source": [
    "pd.Series(dic).plot.bar()"
   ]
  },
  {
   "cell_type": "code",
   "execution_count": 17,
   "metadata": {},
   "outputs": [
    {
     "data": {
      "text/plain": [
       "count    7.000000\n",
       "mean     0.029157\n",
       "std      0.072013\n",
       "min      0.000207\n",
       "25%      0.001054\n",
       "50%      0.001815\n",
       "75%      0.003770\n",
       "max      0.192432\n",
       "dtype: float64"
      ]
     },
     "execution_count": 17,
     "metadata": {},
     "output_type": "execute_result"
    },
    {
     "name": "stdout",
     "output_type": "stream",
     "text": [
      "time: 4.99 ms\n"
     ]
    }
   ],
   "source": [
    "pd.Series(dic).describe()"
   ]
  },
  {
   "cell_type": "code",
   "execution_count": 18,
   "metadata": {},
   "outputs": [
    {
     "data": {
      "text/plain": [
       "Diamond Princess    0.192432\n",
       "Korea, South        0.000207\n",
       "Italy               0.003107\n",
       "Spain               0.004434\n",
       "New Zealand         0.000296\n",
       "Singapore           0.001811\n",
       "Germany             0.001815\n",
       "dtype: float64"
      ]
     },
     "execution_count": 18,
     "metadata": {},
     "output_type": "execute_result"
    },
    {
     "name": "stdout",
     "output_type": "stream",
     "text": [
      "time: 2.99 ms\n"
     ]
    }
   ],
   "source": []
  },
  {
   "cell_type": "code",
   "execution_count": 7,
   "metadata": {},
   "outputs": [
    {
     "data": {
      "text/plain": [
       "0.0031065837479270315"
      ]
     },
     "execution_count": 7,
     "metadata": {},
     "output_type": "execute_result"
    },
    {
     "name": "stdout",
     "output_type": "stream",
     "text": [
      "time: 58.8 ms\n"
     ]
    }
   ],
   "source": [
    "\n",
    "\n",
    "d = SIR(country='Italy')\n",
    "d.confirmed.max() / 60.3e6"
   ]
  },
  {
   "cell_type": "code",
   "execution_count": null,
   "metadata": {},
   "outputs": [],
   "source": [
    "Thailand e japan e china\n",
    "\n",
    "# achar pela planilha os que bateu 100 casos antes"
   ]
  }
 ],
 "metadata": {
  "kernelspec": {
   "display_name": "Python 3",
   "language": "python",
   "name": "python3"
  },
  "language_info": {
   "codemirror_mode": {
    "name": "ipython",
    "version": 3
   },
   "file_extension": ".py",
   "mimetype": "text/x-python",
   "name": "python",
   "nbconvert_exporter": "python",
   "pygments_lexer": "ipython3",
   "version": "3.7.6"
  }
 },
 "nbformat": 4,
 "nbformat_minor": 4
}
