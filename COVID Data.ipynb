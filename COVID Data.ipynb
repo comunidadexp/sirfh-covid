{
 "cells": [
  {
   "cell_type": "code",
   "execution_count": 1,
   "metadata": {},
   "outputs": [],
   "source": [
    "%matplotlib inline\n",
    "\n",
    "import numpy as np\n",
    "import pandas as pd\n",
    "import json\n",
    "import datetime as dt"
   ]
  },
  {
   "cell_type": "code",
   "execution_count": 2,
   "metadata": {},
   "outputs": [],
   "source": [
    "updateData = True"
   ]
  },
  {
   "cell_type": "code",
   "execution_count": 7,
   "metadata": {},
   "outputs": [
    {
     "data": {
      "text/plain": [
       "DatetimeIndex(['2020-01-01', '2020-01-02', '2020-01-03', '2020-01-04',\n",
       "               '2020-01-05'],\n",
       "              dtype='datetime64[ns]', freq=None)"
      ]
     },
     "execution_count": 7,
     "metadata": {},
     "output_type": "execute_result"
    }
   ],
   "source": [
    "ls = [dt.datetime(2020,1,1),dt.datetime(2020,1,3),dt.datetime(2020,1,4),]\n",
    "ls2 = [dt.datetime(2020,1,2),dt.datetime(2020,1,5)]\n",
    "\n",
    "pd.DatetimeIndex(ls).join(pd.DatetimeIndex(ls2),how='outer')"
   ]
  },
  {
   "cell_type": "code",
   "execution_count": 11,
   "metadata": {},
   "outputs": [],
   "source": [
    "data = pd.read_json('https://www.bing.com/covid/graphdata',lines=True)\n",
    "\n",
    "df = pd.DataFrame(index=['confirmed','fatal','recovered','date'])\n",
    "confirmed = pd.DataFrame()\n",
    "fatal = pd.DataFrame()\n",
    "recovered = pd.DataFrame()\n",
    "for country in data.columns:\n",
    "    countryDf = pd.DataFrame(data.loc[0,country]).set_index('date')\n",
    "    jointIndex = confirmed.index.join(countryDf.index, how='outer')\n",
    "    confirmed = confirmed.reindex(jointIndex)\n",
    "    fatal = fatal.reindex(jointIndex)\n",
    "    recovered = recovered.reindex(jointIndex)\n",
    "    confirmed[country] = countryDf['confirmed'].drop_duplicates()\n",
    "    fatal[country] = countryDf['fatal'].drop_duplicates()\n",
    "    recovered[country] = countryDf['recovered'].drop_duplicates()\n"
   ]
  },
  {
   "cell_type": "code",
   "execution_count": 17,
   "metadata": {},
   "outputs": [
    {
     "data": {
      "text/plain": [
       "Index([], dtype='object')"
      ]
     },
     "execution_count": 17,
     "metadata": {},
     "output_type": "execute_result"
    }
   ],
   "source": [
    "confirmed = pd.DataFrame()\n",
    "fatal = pd.DataFrame()\n",
    "recovered = pd.DataFrame()\n",
    "country='italy'\n",
    "countryDf = pd.DataFrame(data.loc[0,country]).set_index('date')\n",
    "jointIndex = confirmed.index.join(countryDf.index)\n",
    "jointIndex\n"
   ]
  },
  {
   "cell_type": "code",
   "execution_count": 18,
   "metadata": {},
   "outputs": [],
   "source": [
    "# UPDATE DATA\n",
    "if updateData:\n",
    "    data = pd.read_json('https://www.bing.com/covid/graphdata',lines=True)\n",
    "\n",
    "    df = pd.DataFrame(index=['confirmed','fatal','recovered','date'])\n",
    "    confirmed = pd.DataFrame()\n",
    "    fatal = pd.DataFrame()\n",
    "    recovered = pd.DataFrame()\n",
    "    for country in data.columns:\n",
    "        countryDf = pd.DataFrame(data.loc[0,country]).set_index('date')\n",
    "        jointIndex = confirmed.index.join(countryDf.index,how='outer')\n",
    "        confirmed = confirmed.reindex(jointIndex)\n",
    "        fatal = fatal.reindex(jointIndex)\n",
    "        recovered = recovered.reindex(jointIndex)\n",
    "        confirmed[country] = countryDf['confirmed'].drop_duplicates()\n",
    "        fatal[country] = countryDf['fatal'].drop_duplicates()\n",
    "        recovered[country] = countryDf['recovered'].drop_duplicates()\n",
    "\n",
    "    # Clean Data\n",
    "    confirmed.index = pd.to_datetime(confirmed.index)\n",
    "    fatal.index = pd.to_datetime(fatal.index)\n",
    "    recovered.index = pd.to_datetime(recovered.index)\n",
    "    \n",
    "    regions_index = confirmed.columns[confirmed.columns.str.contains('_')]\n",
    "    confirmed.drop(regions_index, axis=1, inplace=True)\n",
    "    fatal.drop(regions_index, axis=1, inplace=True)\n",
    "    recovered.drop(regions_index, axis=1, inplace=True)\n",
    "    \n",
    "    #Sync data\n",
    "    fatal = fatal.reindex(confirmed.index,).replace(0,np.nan).fillna(method='ffill').fillna(0)\n",
    "    recovered = recovered.reindex(confirmed.index,).replace(0,np.nan).fillna(method='ffill').fillna(0)\n",
    "    confirmed = confirmed.replace(0,np.nan).fillna(method='ffill').fillna(0)\n",
    "\n",
    "    confirmed.to_pickle('confirmed.pkl')\n",
    "    fatal.to_pickle('fatal.pkl')\n",
    "    recovered.to_pickle('recovered.pkl')\n"
   ]
  },
  {
   "cell_type": "code",
   "execution_count": 19,
   "metadata": {},
   "outputs": [],
   "source": [
    "# GET CACHE DATA\n",
    "confirmed = pd.read_pickle('confirmed.pkl')\n",
    "fatal = pd.read_pickle('fatal.pkl')\n",
    "recovered = pd.read_pickle('recovered.pkl')"
   ]
  },
  {
   "cell_type": "code",
   "execution_count": 29,
   "metadata": {},
   "outputs": [
    {
     "data": {
      "text/plain": [
       "Timestamp('2020-02-22 00:00:00')"
      ]
     },
     "execution_count": 29,
     "metadata": {},
     "output_type": "execute_result"
    }
   ],
   "source": [
    "x = confirmed['italy']\n",
    "x[x>=100].index[0]"
   ]
  },
  {
   "cell_type": "code",
   "execution_count": 5,
   "metadata": {},
   "outputs": [],
   "source": [
    "# Calculate active cases\n",
    "active = confirmed - recovered - fatal"
   ]
  },
  {
   "cell_type": "markdown",
   "metadata": {},
   "source": [
    "# Top Rankings"
   ]
  },
  {
   "cell_type": "code",
   "execution_count": 6,
   "metadata": {
    "scrolled": true
   },
   "outputs": [
    {
     "data": {
      "text/plain": [
       "world            378394.0\n",
       "chinamainland     81093.0\n",
       "italy             63927.0\n",
       "unitedstates      43874.0\n",
       "spain             39673.0\n",
       "germany           29056.0\n",
       "iran              23049.0\n",
       "france            22202.0\n",
       "southkorea         8961.0\n",
       "switzerland        8795.0\n",
       "Name: 2020-03-23 00:00:00, dtype: float64"
      ]
     },
     "execution_count": 6,
     "metadata": {},
     "output_type": "execute_result"
    }
   ],
   "source": [
    "confirmed.iloc[-1].sort_values(ascending=False).head(10)"
   ]
  },
  {
   "cell_type": "code",
   "execution_count": 7,
   "metadata": {},
   "outputs": [
    {
     "data": {
      "text/plain": [
       "world            151672.0\n",
       "chinamainland     79717.0\n",
       "italy             43197.0\n",
       "iran              13589.0\n",
       "spain             10716.0\n",
       "france             3810.0\n",
       "unitedstates       2106.0\n",
       "southkorea         1395.0\n",
       "unitedkingdom      1375.0\n",
       "netherlands         809.0\n",
       "Name: 2020-03-23 00:00:00, dtype: float64"
      ]
     },
     "execution_count": 7,
     "metadata": {},
     "output_type": "execute_result"
    }
   ],
   "source": [
    "fatal.cumsum().iloc[-1].sort_values(ascending=False).head(10)"
   ]
  },
  {
   "cell_type": "markdown",
   "metadata": {},
   "source": [
    "# Exploratory"
   ]
  },
  {
   "cell_type": "code",
   "execution_count": 8,
   "metadata": {},
   "outputs": [],
   "source": [
    "sample = confirmed.loc[:,confirmed.columns != 'world'].cumsum() / 1000\n",
    "sample = sample.loc[:,sample.iloc[-1] > 0.5]"
   ]
  },
  {
   "cell_type": "code",
   "execution_count": 9,
   "metadata": {},
   "outputs": [
    {
     "data": {
      "text/plain": [
       "count      87.000000\n",
       "mean       61.130954\n",
       "std       351.626366\n",
       "min         0.522000\n",
       "25%         1.146500\n",
       "50%         2.641000\n",
       "75%         8.044000\n",
       "max      3228.229000\n",
       "Name: 2020-03-23 00:00:00, dtype: float64"
      ]
     },
     "execution_count": 9,
     "metadata": {},
     "output_type": "execute_result"
    }
   ],
   "source": [
    "sample.iloc[-1].describe()"
   ]
  },
  {
   "cell_type": "code",
   "execution_count": 10,
   "metadata": {},
   "outputs": [
    {
     "data": {
      "text/plain": [
       "<matplotlib.axes._subplots.AxesSubplot at 0x1fc6ddcf708>"
      ]
     },
     "execution_count": 10,
     "metadata": {},
     "output_type": "execute_result"
    },
    {
     "data": {
      "image/png": "[encoded data removed]",
      "text/plain": [
       "<Figure size 432x288 with 1 Axes>"
      ]
     },
     "metadata": {
      "needs_background": "light"
     },
     "output_type": "display_data"
    }
   ],
   "source": [
    "sample.iloc[-1].hist()"
   ]
  },
  {
   "cell_type": "markdown",
   "metadata": {},
   "source": [
    "# Growth chart"
   ]
  },
  {
   "cell_type": "code",
   "execution_count": 21,
   "metadata": {},
   "outputs": [],
   "source": [
    "weeklyConfirmed = confirmed.resample('W').max()\n",
    "#weeklyConfirmed = (confirmed.resample('W').max() / confirmed.resample('W').max().shift(1)) - 1\n",
    "#weeklyConfirmed = confirmed\n",
    "\n",
    "zeroindex = (weeklyConfirmed != 0)\n",
    "syncedConfirmed = pd.DataFrame()\n",
    "\n",
    "for country in confirmed.columns:\n",
    "    #find first date\n",
    "    ar = weeklyConfirmed.index[zeroindex[country]]\n",
    "    if ar.shape[0] > 0:\n",
    "        firstDate = ar[0]\n",
    "        syncedConfirmed[country] = weeklyConfirmed.loc[firstDate:,country].reset_index(drop=True)\n",
    "#    else:\n",
    "#        firstDate = weeklyConfirmed.index[0]\n",
    "        \n",
    "#    syncedConfirmed[country] = weeklyConfirmed.loc[firstDate:,country]\n",
    "    "
   ]
  },
  {
   "cell_type": "code",
   "execution_count": 22,
   "metadata": {},
   "outputs": [
    {
     "data": {
      "text/plain": [
       "<matplotlib.axes._subplots.AxesSubplot at 0x20907680888>"
      ]
     },
     "execution_count": 22,
     "metadata": {},
     "output_type": "execute_result"
    },
    {
     "data": {
      "image/png": "[encoded data removed]",
      "text/plain": [
       "<Figure size 432x288 with 1 Axes>"
      ]
     },
     "metadata": {
      "needs_background": "light"
     },
     "output_type": "display_data"
    }
   ],
   "source": [
    "countries_list = [\n",
    "    'brazil',\n",
    "    'chinamainland',\n",
    "    'unitedstates',\n",
    "    'france',\n",
    "    'spain',\n",
    "    'netherlands',\n",
    "    'singapore',\n",
    "    'hongkong',\n",
    "    'italy',\n",
    "    'southkorea',\n",
    "]\n",
    "\n",
    "countries_list = [\n",
    "    'brazil',\n",
    "    'italy',\n",
    "]\n",
    "\n",
    "\n",
    "\n",
    "# syncedConfirmed[countries_list].to_excel('Chart.xlsx')\n",
    "syncedConfirmed[countries_list].iloc[:].plot()"
   ]
  },
  {
   "cell_type": "code",
   "execution_count": 23,
   "metadata": {},
   "outputs": [],
   "source": [
    "sample = weeklyConfirmed / weeklyConfirmed.shift(1) - 1"
   ]
  },
  {
   "cell_type": "code",
   "execution_count": 24,
   "metadata": {},
   "outputs": [
    {
     "data": {
      "text/plain": [
       "<matplotlib.axes._subplots.AxesSubplot at 0x20907161588>"
      ]
     },
     "execution_count": 24,
     "metadata": {},
     "output_type": "execute_result"
    },
    {
     "data": {
      "image/png": "[encoded data removed]",
      "text/plain": [
       "<Figure size 432x288 with 1 Axes>"
      ]
     },
     "metadata": {
      "needs_background": "light"
     },
     "output_type": "display_data"
    }
   ],
   "source": [
    "sample[countries_list].plot()"
   ]
  },
  {
   "cell_type": "code",
   "execution_count": 30,
   "metadata": {},
   "outputs": [
    {
     "data": {
      "text/plain": [
       "date\n",
       "2020-01-26       0.0\n",
       "2020-02-02       0.0\n",
       "2020-02-09       0.0\n",
       "2020-02-16       0.0\n",
       "2020-02-23       0.0\n",
       "2020-03-01       2.0\n",
       "2020-03-08      19.0\n",
       "2020-03-15     121.0\n",
       "2020-03-22    1546.0\n",
       "2020-03-29    1629.0\n",
       "Freq: W-SUN, Name: brazil, dtype: float64"
      ]
     },
     "execution_count": 30,
     "metadata": {},
     "output_type": "execute_result"
    }
   ],
   "source": [
    "confirmed.resample('W').max()['brazil']"
   ]
  },
  {
   "cell_type": "code",
   "execution_count": 13,
   "metadata": {},
   "outputs": [],
   "source": [
    "syncedConfirmed[countries_list].to_excel('ConfirmedCases.xlsx')"
   ]
  },
  {
   "cell_type": "code",
   "execution_count": 14,
   "metadata": {},
   "outputs": [
    {
     "data": {
      "text/plain": [
       "<matplotlib.axes._subplots.AxesSubplot at 0x1fc7060b648>"
      ]
     },
     "execution_count": 14,
     "metadata": {},
     "output_type": "execute_result"
    },
    {
     "data": {
      "image/png": "[encoded data removed]",
      "text/plain": [
       "<Figure size 432x288 with 1 Axes>"
      ]
     },
     "metadata": {
      "needs_background": "light"
     },
     "output_type": "display_data"
    }
   ],
   "source": [
    "country = 'chinamainland'\n",
    "pd.DataFrame([confirmed[country],recovered[country],fatal[country],]).T.plot()"
   ]
  },
  {
   "cell_type": "code",
   "execution_count": 15,
   "metadata": {},
   "outputs": [
    {
     "data": {
      "text/plain": [
       "0    NaN\n",
       "1    1.0\n",
       "2    2.0\n",
       "3    2.0\n",
       "4    5.0\n",
       "dtype: float64"
      ]
     },
     "execution_count": 15,
     "metadata": {},
     "output_type": "execute_result"
    }
   ],
   "source": [
    "pd.Series([np.nan,1,2,np.nan,5]).fillna(method='ffill')"
   ]
  },
  {
   "cell_type": "code",
   "execution_count": null,
   "metadata": {},
   "outputs": [],
   "source": []
  }
 ],
 "metadata": {
  "kernelspec": {
   "display_name": "Python 3",
   "language": "python",
   "name": "python3"
  },
  "language_info": {
   "codemirror_mode": {
    "name": "ipython",
    "version": 3
   },
   "file_extension": ".py",
   "mimetype": "text/x-python",
   "name": "python",
   "nbconvert_exporter": "python",
   "pygments_lexer": "ipython3",
   "version": "3.7.6"
  }
 },
 "nbformat": 4,
 "nbformat_minor": 4
}
