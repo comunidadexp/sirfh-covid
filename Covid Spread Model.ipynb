{
 "cells": [
  {
   "cell_type": "code",
   "execution_count": 1,
   "metadata": {},
   "outputs": [],
   "source": [
    "%matplotlib inline\n",
    "%load_ext autotime\n",
    "import numpy as np\n",
    "import pandas as pd\n",
    "from scipy.integrate import solve_ivp\n",
    "from scipy.optimize import minimize\n",
    "import matplotlib.pyplot as plt\n",
    "from datetime import timedelta, datetime"
   ]
  },
  {
   "cell_type": "markdown",
   "metadata": {},
   "source": [
    "# Modelling the COVID spread with a SIR model\n",
    "\n",
    "\n",
    "$$\\frac{dS}{dt} = -\\beta IS$$\n",
    "\n",
    "$$\\frac{dI}{dt} = \\beta IS-\\gamma I$$\n",
    "\n",
    "$$\\frac{dR}{dt} = \\gamma I$$"
   ]
  },
  {
   "cell_type": "code",
   "execution_count": 6,
   "metadata": {},
   "outputs": [
    {
     "name": "stdout",
     "output_type": "stream",
     "text": [
      "time: 997 µs\n"
     ]
    }
   ],
   "source": [
    "START_DATE = {\n",
    "  'Japan': '1/22/20',\n",
    "  'Italy': '1/31/20',\n",
    "  'Republic of Korea': '1/22/20',\n",
    "  'Iran (Islamic Republic of)': '2/19/20'\n",
    "}"
   ]
  },
  {
   "cell_type": "code",
   "execution_count": 12,
   "metadata": {},
   "outputs": [
    {
     "name": "stdout",
     "output_type": "stream",
     "text": [
      "time: 5.98 ms\n"
     ]
    }
   ],
   "source": [
    "class Learner(object):\n",
    "    def __init__(self, country, loss):\n",
    "        self.country = country\n",
    "        self.loss = loss\n",
    "        data = self.load_confirmed(self.country)\n",
    "        self.data = data\n",
    "        nthCase = 100 #minimum number of cases to start modelling \n",
    "\n",
    "    def load_confirmed(self, country):\n",
    "      \"\"\"\n",
    "      Load confirmed cases downloaded from HDX\n",
    "      \"\"\"\n",
    "      df = pd.read_csv('time_series_covid19_confirmed_global.csv')\n",
    "      country_df = df[df['Country/Region'] == country]\n",
    "      return country_df.iloc[0].loc[START_DATE[country]:]\n",
    "\n",
    "    def extend_index(self, index, new_size):\n",
    "        values = index.values\n",
    "        current = datetime.strptime(index[-1], '%m/%d/%y')\n",
    "        while len(values) < new_size:\n",
    "            current = current + timedelta(days=1)\n",
    "            values = np.append(values, datetime.strftime(current, '%m/%d/%y'))\n",
    "        return values\n",
    "\n",
    "    def predict(self, beta, gamma, data):\n",
    "        \"\"\"\n",
    "        Predict how the number of people in each compartment can be changed through time toward the future.\n",
    "        The model is formulated with the given beta and gamma.\n",
    "        \"\"\"\n",
    "        \n",
    "        beta = self.beta\n",
    "        gamma = self.gamma\n",
    "        data = self.data\n",
    "        \n",
    "        predict_range = 150\n",
    "        new_index = self.extend_index(data.index, predict_range)\n",
    "        size = len(new_index)\n",
    "        def SIR(t, y):\n",
    "            S = y[0]\n",
    "            I = y[1]\n",
    "            R = y[2]\n",
    "            return [-beta*S*I/N, beta*S*I/N-gamma*I, gamma*I]\n",
    "        extended_actual = np.concatenate((data.values, [None] * (size - len(data.values))))\n",
    "        return new_index, extended_actual, solve_ivp(SIR, [0, size], [S_0,I_0,R_0], t_eval=np.arange(0, size, 1))\n",
    "\n",
    "    \n",
    "    def estimate(self):\n",
    "        \n",
    "        data=self.data\n",
    "        \n",
    "        optimal = minimize(\n",
    "            loss,\n",
    "            [0.001, 0.001],\n",
    "            args=(data),\n",
    "            method='L-BFGS-B',\n",
    "            bounds=[(0.00000001, 0.4), (0.00000001, 0.4)]\n",
    "        )\n",
    "        beta, gamma = optimal.x\n",
    "        print(\"Beta:{beta} Gamma:{gamma}\".format(beta=beta,gamma=gamma))\n",
    "        self.beta = beta\n",
    "        self.gamma = gamma\n",
    "        \n",
    "    def train(self):\n",
    "        \"\"\"\n",
    "        Run the optimization to estimate the beta and gamma fitting the given confirmed cases.\n",
    "        \"\"\"\n",
    "        \n",
    "        self.estimate()\n",
    "        \n",
    "        beta = self.beta\n",
    "        gamma = self.gamma\n",
    "        data=self.data\n",
    "        \n",
    "        new_index, extended_actual, prediction = self.predict(beta, gamma, data)\n",
    "        df = pd.DataFrame({\n",
    "            'Actual': extended_actual,\n",
    "            'S': prediction.y[0],\n",
    "            'I': prediction.y[1],\n",
    "            'R': prediction.y[2]\n",
    "        }, index=new_index)\n",
    "        self.df = df\n",
    "        fig, ax = plt.subplots(figsize=(15, 10))\n",
    "        ax.set_title(self.country)\n",
    "        df.plot(ax=ax)\n",
    "        return new_index, extended_actual\n",
    "        #fig.savefig(f\"{self.country}.png\")"
   ]
  },
  {
   "cell_type": "code",
   "execution_count": 13,
   "metadata": {},
   "outputs": [
    {
     "name": "stdout",
     "output_type": "stream",
     "text": [
      "time: 998 µs\n"
     ]
    }
   ],
   "source": [
    "def loss(point, data):\n",
    "    \"\"\"\n",
    "    RMSE between actual confirmed cases and the estimated infectious people with given beta and gamma.\n",
    "    \"\"\"\n",
    "    size = len(data)\n",
    "    beta, gamma = point\n",
    "    def SIR(t, y):\n",
    "        S = y[0]\n",
    "        I = y[1]\n",
    "        R = y[2]\n",
    "        return [-beta*S*I/N, beta*S*I/N-gamma*I, gamma*I]\n",
    "    solution = solve_ivp(SIR, [0, size], [S_0,I_0,R_0], t_eval=np.arange(0, size, 1), vectorized=True)\n",
    "    return np.sqrt(np.mean((solution.y[1] - data)**2))"
   ]
  },
  {
   "cell_type": "code",
   "execution_count": 14,
   "metadata": {},
   "outputs": [
    {
     "name": "stdout",
     "output_type": "stream",
     "text": [
      "Beta:0.19130238396459745 Gamma:4.10644995672149e-05\n"
     ]
    },
    {
     "data": {
      "image/png": "[encoded data removed]",
      "text/plain": [
       "<Figure size 1080x720 with 1 Axes>"
      ]
     },
     "metadata": {
      "needs_background": "light"
     },
     "output_type": "display_data"
    },
    {
     "name": "stdout",
     "output_type": "stream",
     "text": [
      "time: 408 ms\n"
     ]
    }
   ],
   "source": [
    "N = 1000000\n",
    "I_0 = 2\n",
    "S_0 = N - I_0\n",
    "R_0 = 0\n",
    "\n",
    "jap = Learner('Italy', loss)\n",
    "out = jap.train()"
   ]
  },
  {
   "cell_type": "code",
   "execution_count": 15,
   "metadata": {},
   "outputs": [
    {
     "data": {
      "text/html": [
       "<div>\n",
       "<style scoped>\n",
       "    .dataframe tbody tr th:only-of-type {\n",
       "        vertical-align: middle;\n",
       "    }\n",
       "\n",
       "    .dataframe tbody tr th {\n",
       "        vertical-align: top;\n",
       "    }\n",
       "\n",
       "    .dataframe thead th {\n",
       "        text-align: right;\n",
       "    }\n",
       "</style>\n",
       "<table border=\"1\" class=\"dataframe\">\n",
       "  <thead>\n",
       "    <tr style=\"text-align: right;\">\n",
       "      <th></th>\n",
       "      <th>Actual</th>\n",
       "      <th>S</th>\n",
       "      <th>I</th>\n",
       "      <th>R</th>\n",
       "    </tr>\n",
       "  </thead>\n",
       "  <tbody>\n",
       "    <tr>\n",
       "      <th>1/31/20</th>\n",
       "      <td>2</td>\n",
       "      <td>999998.000000</td>\n",
       "      <td>2.000000</td>\n",
       "      <td>0.000000</td>\n",
       "    </tr>\n",
       "    <tr>\n",
       "      <th>2/1/20</th>\n",
       "      <td>2</td>\n",
       "      <td>999997.578358</td>\n",
       "      <td>2.421551</td>\n",
       "      <td>0.000091</td>\n",
       "    </tr>\n",
       "    <tr>\n",
       "      <th>2/2/20</th>\n",
       "      <td>2</td>\n",
       "      <td>999997.067793</td>\n",
       "      <td>2.932007</td>\n",
       "      <td>0.000200</td>\n",
       "    </tr>\n",
       "    <tr>\n",
       "      <th>2/3/20</th>\n",
       "      <td>2</td>\n",
       "      <td>999996.449439</td>\n",
       "      <td>3.550228</td>\n",
       "      <td>0.000333</td>\n",
       "    </tr>\n",
       "    <tr>\n",
       "      <th>2/4/20</th>\n",
       "      <td>2</td>\n",
       "      <td>999995.701417</td>\n",
       "      <td>4.298089</td>\n",
       "      <td>0.000493</td>\n",
       "    </tr>\n",
       "    <tr>\n",
       "      <th>...</th>\n",
       "      <td>...</td>\n",
       "      <td>...</td>\n",
       "      <td>...</td>\n",
       "      <td>...</td>\n",
       "    </tr>\n",
       "    <tr>\n",
       "      <th>06/24/20</th>\n",
       "      <td>None</td>\n",
       "      <td>0.462930</td>\n",
       "      <td>996867.102504</td>\n",
       "      <td>3132.434566</td>\n",
       "    </tr>\n",
       "    <tr>\n",
       "      <th>06/25/20</th>\n",
       "      <td>None</td>\n",
       "      <td>0.382827</td>\n",
       "      <td>996826.247597</td>\n",
       "      <td>3173.369576</td>\n",
       "    </tr>\n",
       "    <tr>\n",
       "      <th>06/26/20</th>\n",
       "      <td>None</td>\n",
       "      <td>0.316715</td>\n",
       "      <td>996785.380377</td>\n",
       "      <td>3214.302908</td>\n",
       "    </tr>\n",
       "    <tr>\n",
       "      <th>06/27/20</th>\n",
       "      <td>None</td>\n",
       "      <td>0.261776</td>\n",
       "      <td>996744.503663</td>\n",
       "      <td>3255.234561</td>\n",
       "    </tr>\n",
       "    <tr>\n",
       "      <th>06/28/20</th>\n",
       "      <td>None</td>\n",
       "      <td>0.216331</td>\n",
       "      <td>996703.619133</td>\n",
       "      <td>3296.164536</td>\n",
       "    </tr>\n",
       "  </tbody>\n",
       "</table>\n",
       "<p>150 rows × 4 columns</p>\n",
       "</div>"
      ],
      "text/plain": [
       "         Actual              S              I            R\n",
       "1/31/20       2  999998.000000       2.000000     0.000000\n",
       "2/1/20        2  999997.578358       2.421551     0.000091\n",
       "2/2/20        2  999997.067793       2.932007     0.000200\n",
       "2/3/20        2  999996.449439       3.550228     0.000333\n",
       "2/4/20        2  999995.701417       4.298089     0.000493\n",
       "...         ...            ...            ...          ...\n",
       "06/24/20   None       0.462930  996867.102504  3132.434566\n",
       "06/25/20   None       0.382827  996826.247597  3173.369576\n",
       "06/26/20   None       0.316715  996785.380377  3214.302908\n",
       "06/27/20   None       0.261776  996744.503663  3255.234561\n",
       "06/28/20   None       0.216331  996703.619133  3296.164536\n",
       "\n",
       "[150 rows x 4 columns]"
      ]
     },
     "execution_count": 15,
     "metadata": {},
     "output_type": "execute_result"
    },
    {
     "name": "stdout",
     "output_type": "stream",
     "text": [
      "time: 13 ms\n"
     ]
    }
   ],
   "source": [
    "jap.df"
   ]
  },
  {
   "cell_type": "markdown",
   "metadata": {},
   "source": [
    "Next steps:\n",
    "\n",
    "* Use a better loss function | infected = active cases & recovered = recovered + deaths\n",
    "* add premise that 100 cases means 200 infected\n",
    "* sum recoveries and deaths\n",
    "* start on hundredth case"
   ]
  },
  {
   "cell_type": "code",
   "execution_count": null,
   "metadata": {},
   "outputs": [],
   "source": []
  }
 ],
 "metadata": {
  "kernelspec": {
   "display_name": "Python 3",
   "language": "python",
   "name": "python3"
  },
  "language_info": {
   "codemirror_mode": {
    "name": "ipython",
    "version": 3
   },
   "file_extension": ".py",
   "mimetype": "text/x-python",
   "name": "python",
   "nbconvert_exporter": "python",
   "pygments_lexer": "ipython3",
   "version": "3.7.6"
  }
 },
 "nbformat": 4,
 "nbformat_minor": 4
}
